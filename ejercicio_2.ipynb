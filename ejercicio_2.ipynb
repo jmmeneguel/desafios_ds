{
 "cells": [
  {
   "cell_type": "markdown",
   "metadata": {},
   "source": [
    "# Similitud entre productos"
   ]
  },
  {
   "cell_type": "markdown",
   "metadata": {},
   "source": [
    "Nesse notebook, iremos comparar a similaridade entre títulos de produtos do mercado livre, analisando se a solução proposta é escalável e o tempo necessário para execução da função."
   ]
  },
  {
   "cell_type": "markdown",
   "metadata": {},
   "source": [
    "## Carregamento dos dados"
   ]
  },
  {
   "cell_type": "code",
   "execution_count": 59,
   "metadata": {},
   "outputs": [
    {
     "name": "stdout",
     "output_type": "stream",
     "text": [
      "Titles test contains 10000 items.\n",
      "Titles contains 30000 items.\n"
     ]
    }
   ],
   "source": [
    "import pandas as pd\n",
    "\n",
    "titles_test = pd.read_csv(\"items_titles_test.csv\", encoding=\"utf-8\")\n",
    "titles = pd.read_csv(\"items_titles.csv\", encoding=\"utf-8\")\n",
    "\n",
    "print(f\"Titles test contains {len(titles_test)} items.\")\n",
    "print(f\"Titles contains {len(titles)} items.\")"
   ]
  },
  {
   "cell_type": "code",
   "execution_count": 60,
   "metadata": {},
   "outputs": [
    {
     "data": {
      "text/html": [
       "<div>\n",
       "<style scoped>\n",
       "    .dataframe tbody tr th:only-of-type {\n",
       "        vertical-align: middle;\n",
       "    }\n",
       "\n",
       "    .dataframe tbody tr th {\n",
       "        vertical-align: top;\n",
       "    }\n",
       "\n",
       "    .dataframe thead th {\n",
       "        text-align: right;\n",
       "    }\n",
       "</style>\n",
       "<table border=\"1\" class=\"dataframe\">\n",
       "  <thead>\n",
       "    <tr style=\"text-align: right;\">\n",
       "      <th></th>\n",
       "      <th>ITE_ITEM_TITLE</th>\n",
       "    </tr>\n",
       "  </thead>\n",
       "  <tbody>\n",
       "    <tr>\n",
       "      <th>0</th>\n",
       "      <td>Tênis Olympikus Esporte Valente - Masculino Kids</td>\n",
       "    </tr>\n",
       "    <tr>\n",
       "      <th>1</th>\n",
       "      <td>Bicicleta Barra Forte Samy C/ 6 Marchas Cubo C...</td>\n",
       "    </tr>\n",
       "    <tr>\n",
       "      <th>2</th>\n",
       "      <td>Tênis Usthemp Slip-on Temático - Labrador 2</td>\n",
       "    </tr>\n",
       "    <tr>\n",
       "      <th>3</th>\n",
       "      <td>Tênis Casual Feminino Moleca Tecido Tie Dye</td>\n",
       "    </tr>\n",
       "    <tr>\n",
       "      <th>4</th>\n",
       "      <td>Tênis Star Baby Sapatinho Conforto + Brinde</td>\n",
       "    </tr>\n",
       "  </tbody>\n",
       "</table>\n",
       "</div>"
      ],
      "text/plain": [
       "                                      ITE_ITEM_TITLE\n",
       "0   Tênis Olympikus Esporte Valente - Masculino Kids\n",
       "1  Bicicleta Barra Forte Samy C/ 6 Marchas Cubo C...\n",
       "2       Tênis Usthemp Slip-on Temático - Labrador 2\n",
       "3        Tênis Casual Feminino Moleca Tecido Tie Dye\n",
       "4        Tênis Star Baby Sapatinho Conforto + Brinde"
      ]
     },
     "execution_count": 60,
     "metadata": {},
     "output_type": "execute_result"
    }
   ],
   "source": [
    "titles_test.head(5)"
   ]
  },
  {
   "cell_type": "code",
   "execution_count": 61,
   "metadata": {},
   "outputs": [
    {
     "data": {
      "text/html": [
       "<div>\n",
       "<style scoped>\n",
       "    .dataframe tbody tr th:only-of-type {\n",
       "        vertical-align: middle;\n",
       "    }\n",
       "\n",
       "    .dataframe tbody tr th {\n",
       "        vertical-align: top;\n",
       "    }\n",
       "\n",
       "    .dataframe thead th {\n",
       "        text-align: right;\n",
       "    }\n",
       "</style>\n",
       "<table border=\"1\" class=\"dataframe\">\n",
       "  <thead>\n",
       "    <tr style=\"text-align: right;\">\n",
       "      <th></th>\n",
       "      <th>ITE_ITEM_TITLE</th>\n",
       "    </tr>\n",
       "  </thead>\n",
       "  <tbody>\n",
       "    <tr>\n",
       "      <th>0</th>\n",
       "      <td>Tênis Ascension Posh Masculino - Preto E Verme...</td>\n",
       "    </tr>\n",
       "    <tr>\n",
       "      <th>1</th>\n",
       "      <td>Tenis Para Caminhada Super Levinho Spider Corr...</td>\n",
       "    </tr>\n",
       "    <tr>\n",
       "      <th>2</th>\n",
       "      <td>Tênis Feminino Le Parc Hocks Black/ice Origina...</td>\n",
       "    </tr>\n",
       "    <tr>\n",
       "      <th>3</th>\n",
       "      <td>Tênis Olympikus Esportivo Academia Nova Tendên...</td>\n",
       "    </tr>\n",
       "    <tr>\n",
       "      <th>4</th>\n",
       "      <td>Inteligente Led Bicicleta Tauda Luz Usb Bicicl...</td>\n",
       "    </tr>\n",
       "  </tbody>\n",
       "</table>\n",
       "</div>"
      ],
      "text/plain": [
       "                                      ITE_ITEM_TITLE\n",
       "0  Tênis Ascension Posh Masculino - Preto E Verme...\n",
       "1  Tenis Para Caminhada Super Levinho Spider Corr...\n",
       "2  Tênis Feminino Le Parc Hocks Black/ice Origina...\n",
       "3  Tênis Olympikus Esportivo Academia Nova Tendên...\n",
       "4  Inteligente Led Bicicleta Tauda Luz Usb Bicicl..."
      ]
     },
     "execution_count": 61,
     "metadata": {},
     "output_type": "execute_result"
    }
   ],
   "source": [
    "titles.head(5)"
   ]
  },
  {
   "cell_type": "markdown",
   "metadata": {},
   "source": [
    "## Pretratamento dos dados"
   ]
  },
  {
   "cell_type": "markdown",
   "metadata": {},
   "source": [
    "No pretratamento dos dados, caracteres especiais, símbolos e números são removidos e os textos são colocados em minúsculo. Depois disso são removidas palavras com pouco conteúdo semântico (stopwords), e as palavras são substituídas pelas suas raízes, fazendo com que o resultado não seja afetado por conjugação de verbos e plurais de substantivos."
   ]
  },
  {
   "cell_type": "code",
   "execution_count": 62,
   "metadata": {},
   "outputs": [],
   "source": [
    "import re\n",
    "\n",
    "def preprocess_title(title: str) -> str:\n",
    "    # Remove unidentified char and lower text\n",
    "    filtered_string = title.replace(\"\", \"\").lower()\n",
    "    # Remove non char (e.g. digits and punctuation)\n",
    "    processed_title = re.sub(r\"[^a-zà-öø-ÿ\\s]\", \" \", filtered_string)\n",
    "    processed_title = re.sub(r\"\\s{2,}\", \" \", processed_title)\n",
    "    return processed_title.strip()"
   ]
  },
  {
   "cell_type": "code",
   "execution_count": 63,
   "metadata": {},
   "outputs": [
    {
     "data": {
      "text/plain": [
       "0       tênis olympikus esporte valente masculino kids\n",
       "1    bicicleta barra forte samy c marchas cubo c ro...\n",
       "2              tênis usthemp slip on temático labrador\n",
       "3          tênis casual feminino moleca tecido tie dye\n",
       "4            tênis star baby sapatinho conforto brinde\n",
       "5                  tênis oakley frequency preto marrom\n",
       "Name: ITE_ITEM_TITLE, dtype: object"
      ]
     },
     "execution_count": 63,
     "metadata": {},
     "output_type": "execute_result"
    }
   ],
   "source": [
    "titles_test.loc[:5, \"ITE_ITEM_TITLE\"].apply(preprocess_title)"
   ]
  },
  {
   "cell_type": "code",
   "execution_count": 64,
   "metadata": {},
   "outputs": [
    {
     "name": "stderr",
     "output_type": "stream",
     "text": [
      "[nltk_data] Downloading package rslp to\n",
      "[nltk_data]     C:\\Users\\jeh_m\\AppData\\Roaming\\nltk_data...\n",
      "[nltk_data]   Package rslp is already up-to-date!\n",
      "[nltk_data] Downloading package stopwords to\n",
      "[nltk_data]     C:\\Users\\jeh_m\\AppData\\Roaming\\nltk_data...\n",
      "[nltk_data]   Package stopwords is already up-to-date!\n"
     ]
    }
   ],
   "source": [
    "import nltk\n",
    "\n",
    "# Download stemmer and stopwords from nltk\n",
    "nltk.download('rslp')\n",
    "nltk.download('stopwords')\n",
    "\n",
    "stemmer = nltk.stem.RSLPStemmer()\n",
    "stopwords = nltk.corpus.stopwords.words('portuguese')\n",
    "\n",
    "def text_to_stems(text: str) -> list[str]:\n",
    "    tokens = text.split(\" \")\n",
    "    stems = [stemmer.stem(token) for token in tokens if token not in stopwords] \n",
    "    return stems"
   ]
  },
  {
   "cell_type": "code",
   "execution_count": 65,
   "metadata": {},
   "outputs": [
    {
     "data": {
      "text/plain": [
       "0     [tênil, olympiku, esport, valent, masculin, kid]\n",
       "1    [biciclet, barr, fort, samy, c, march, cub, c,...\n",
       "2               [tênil, usthemp, slip, on, temá, labr]\n",
       "3          [tênil, cas, feminin, molec, tec, tie, dye]\n",
       "4             [tênil, st, baby, sapat, confort, brind]\n",
       "5             [tênil, oakley, frequency, pret, marrom]\n",
       "Name: ITE_ITEM_TITLE, dtype: object"
      ]
     },
     "execution_count": 65,
     "metadata": {},
     "output_type": "execute_result"
    }
   ],
   "source": [
    "titles_test.loc[:5,\"ITE_ITEM_TITLE\"].apply(preprocess_title).apply(text_to_stems)"
   ]
  },
  {
   "cell_type": "markdown",
   "metadata": {},
   "source": [
    "## Solução 1"
   ]
  },
  {
   "cell_type": "markdown",
   "metadata": {},
   "source": [
    "### Similaridade de texto"
   ]
  },
  {
   "cell_type": "markdown",
   "metadata": {},
   "source": [
    "A primeira solução faz a contagem de palavras comuns entre duas setenças e considera a similaridade a razão entre o número de palavras comuns e o número de palavras na maior sentença."
   ]
  },
  {
   "cell_type": "code",
   "execution_count": 66,
   "metadata": {},
   "outputs": [],
   "source": [
    "def calculate_title_similarity(title_1: str, title_2: str) -> float:\n",
    "    text_1, text_2 = preprocess_title(title_1), preprocess_title(title_2)\n",
    "    stems_1, stems_2 = text_to_stems(text_1), text_to_stems(text_2)\n",
    "    set_1, set_2 = set(stems_1), set(stems_2)\n",
    "    return len(set_1 & set_2) / max(len(set_1), len(set_2))"
   ]
  },
  {
   "cell_type": "code",
   "execution_count": 67,
   "metadata": {},
   "outputs": [
    {
     "data": {
      "text/plain": [
       "0.5"
      ]
     },
     "execution_count": 67,
     "metadata": {},
     "output_type": "execute_result"
    }
   ],
   "source": [
    "calculate_title_similarity(\"Zapatillas Nike\", \"Zapatillas Adidas\")"
   ]
  },
  {
   "cell_type": "code",
   "execution_count": 68,
   "metadata": {},
   "outputs": [
    {
     "data": {
      "text/plain": [
       "1.0"
      ]
     },
     "execution_count": 68,
     "metadata": {},
     "output_type": "execute_result"
    }
   ],
   "source": [
    "calculate_title_similarity(\"Zapatillas Nike\", \"Zapatillas Nike\")"
   ]
  },
  {
   "cell_type": "markdown",
   "metadata": {},
   "source": [
    "### Análise de desempenho"
   ]
  },
  {
   "cell_type": "markdown",
   "metadata": {},
   "source": [
    "Essa solução tem complexidade O(n^2), já que é necessário comparar os items aos pares. Realizando a comparação para o dataset de teste, temos:"
   ]
  },
  {
   "cell_type": "code",
   "execution_count": 69,
   "metadata": {},
   "outputs": [
    {
     "data": {
      "text/html": [
       "<div>\n",
       "<style scoped>\n",
       "    .dataframe tbody tr th:only-of-type {\n",
       "        vertical-align: middle;\n",
       "    }\n",
       "\n",
       "    .dataframe tbody tr th {\n",
       "        vertical-align: top;\n",
       "    }\n",
       "\n",
       "    .dataframe thead th {\n",
       "        text-align: right;\n",
       "    }\n",
       "</style>\n",
       "<table border=\"1\" class=\"dataframe\">\n",
       "  <thead>\n",
       "    <tr style=\"text-align: right;\">\n",
       "      <th></th>\n",
       "      <th>ITE_ITEM_TITLE_1</th>\n",
       "      <th>ITE_ITEM_TITLE_2</th>\n",
       "      <th>SCORE</th>\n",
       "    </tr>\n",
       "  </thead>\n",
       "  <tbody>\n",
       "    <tr>\n",
       "      <th>0</th>\n",
       "      <td>Tênis Olympikus Esporte Valente - Masculino Kids</td>\n",
       "      <td>Tênis Olympikus Esporte Valente - Masculino Kids</td>\n",
       "      <td>1.000000</td>\n",
       "    </tr>\n",
       "    <tr>\n",
       "      <th>1</th>\n",
       "      <td>Tênis Olympikus Esporte Valente - Masculino Kids</td>\n",
       "      <td>Tênis Usthemp Slip-on Temático - Labrador 2</td>\n",
       "      <td>0.166667</td>\n",
       "    </tr>\n",
       "    <tr>\n",
       "      <th>2</th>\n",
       "      <td>Tênis Olympikus Esporte Valente - Masculino Kids</td>\n",
       "      <td>Tênis Star Baby Sapatinho Conforto + Brinde</td>\n",
       "      <td>0.166667</td>\n",
       "    </tr>\n",
       "    <tr>\n",
       "      <th>3</th>\n",
       "      <td>Tênis Olympikus Esporte Valente - Masculino Kids</td>\n",
       "      <td>Under Armour Hovr Phantom 2 Conexão Bluetooth ...</td>\n",
       "      <td>0.125000</td>\n",
       "    </tr>\n",
       "    <tr>\n",
       "      <th>4</th>\n",
       "      <td>Tênis Olympikus Esporte Valente - Masculino Kids</td>\n",
       "      <td>Versão Coreana Da Tendência Dos Sapatos Casuai...</td>\n",
       "      <td>0.000000</td>\n",
       "    </tr>\n",
       "  </tbody>\n",
       "</table>\n",
       "</div>"
      ],
      "text/plain": [
       "                                   ITE_ITEM_TITLE_1  \\\n",
       "0  Tênis Olympikus Esporte Valente - Masculino Kids   \n",
       "1  Tênis Olympikus Esporte Valente - Masculino Kids   \n",
       "2  Tênis Olympikus Esporte Valente - Masculino Kids   \n",
       "3  Tênis Olympikus Esporte Valente - Masculino Kids   \n",
       "4  Tênis Olympikus Esporte Valente - Masculino Kids   \n",
       "\n",
       "                                    ITE_ITEM_TITLE_2     SCORE  \n",
       "0   Tênis Olympikus Esporte Valente - Masculino Kids  1.000000  \n",
       "1       Tênis Usthemp Slip-on Temático - Labrador 2  0.166667  \n",
       "2        Tênis Star Baby Sapatinho Conforto + Brinde  0.166667  \n",
       "3  Under Armour Hovr Phantom 2 Conexão Bluetooth ...  0.125000  \n",
       "4  Versão Coreana Da Tendência Dos Sapatos Casuai...  0.000000  "
      ]
     },
     "execution_count": 69,
     "metadata": {},
     "output_type": "execute_result"
    }
   ],
   "source": [
    "titles_test_values =  titles_test[\"ITE_ITEM_TITLE\"].values\n",
    "res_1_test: list[dict[str, str|float]] = []\n",
    "\n",
    "for t1 in titles_test_values[:1000]:\n",
    "    for t2 in titles_test_values[:1000]:\n",
    "        if t2 < t1:\n",
    "            continue\n",
    "\n",
    "        res_1_test.append({\n",
    "            \"ITE_ITEM_TITLE_1\": t1,\n",
    "            \"ITE_ITEM_TITLE_2\": t2,\n",
    "            \"SCORE\": calculate_title_similarity(t1, t2),\n",
    "        })\n",
    "\n",
    "pd.DataFrame(res_1_test).head(5)"
   ]
  },
  {
   "cell_type": "markdown",
   "metadata": {},
   "source": [
    "Para apenas 1000 amostras do dataset de teste, o algoritmo teve tempo de execução de aproximadamente 3,5 min. Para os datasets com 10k e 30k, dado a complexidade O(n^2), isso resultaria 350 minutos e 3150 minutos, sendo assim inviável. "
   ]
  },
  {
   "cell_type": "markdown",
   "metadata": {},
   "source": [
    "## Solução 2"
   ]
  },
  {
   "cell_type": "markdown",
   "metadata": {},
   "source": [
    "A segunda solução faz uso do TFIDF, uma técnica usual para computar a importância de palavras em documentos a partir da frequência que elas aparecem. Com ela, cálculo de similaridade é feito de forma matricial, sendo mais eficiente que a solução 1."
   ]
  },
  {
   "cell_type": "code",
   "execution_count": 74,
   "metadata": {},
   "outputs": [
    {
     "data": {
      "text/html": [
       "<div>\n",
       "<style scoped>\n",
       "    .dataframe tbody tr th:only-of-type {\n",
       "        vertical-align: middle;\n",
       "    }\n",
       "\n",
       "    .dataframe tbody tr th {\n",
       "        vertical-align: top;\n",
       "    }\n",
       "\n",
       "    .dataframe thead th {\n",
       "        text-align: right;\n",
       "    }\n",
       "</style>\n",
       "<table border=\"1\" class=\"dataframe\">\n",
       "  <thead>\n",
       "    <tr style=\"text-align: right;\">\n",
       "      <th></th>\n",
       "      <th>ITE_ITEM_TITLE_1</th>\n",
       "      <th>ITE_ITEM_TITLE_2</th>\n",
       "      <th>SCORE</th>\n",
       "    </tr>\n",
       "  </thead>\n",
       "  <tbody>\n",
       "    <tr>\n",
       "      <th>0</th>\n",
       "      <td>Tênis Olympikus Esporte Valente - Masculino Kids</td>\n",
       "      <td>Tênis Olympikus Esporte Valente - Masculino Kids</td>\n",
       "      <td>1.000000</td>\n",
       "    </tr>\n",
       "    <tr>\n",
       "      <th>1</th>\n",
       "      <td>Tênis Olympikus Esporte Valente - Masculino Kids</td>\n",
       "      <td>Bicicleta Barra Forte Samy C/ 6 Marchas Cubo C...</td>\n",
       "      <td>0.000000</td>\n",
       "    </tr>\n",
       "    <tr>\n",
       "      <th>2</th>\n",
       "      <td>Tênis Olympikus Esporte Valente - Masculino Kids</td>\n",
       "      <td>Tênis Usthemp Slip-on Temático - Labrador 2</td>\n",
       "      <td>0.014983</td>\n",
       "    </tr>\n",
       "    <tr>\n",
       "      <th>3</th>\n",
       "      <td>Tênis Olympikus Esporte Valente - Masculino Kids</td>\n",
       "      <td>Tênis Casual Feminino Moleca Tecido Tie Dye</td>\n",
       "      <td>0.014527</td>\n",
       "    </tr>\n",
       "    <tr>\n",
       "      <th>4</th>\n",
       "      <td>Tênis Olympikus Esporte Valente - Masculino Kids</td>\n",
       "      <td>Tênis Star Baby Sapatinho Conforto + Brinde</td>\n",
       "      <td>0.016531</td>\n",
       "    </tr>\n",
       "    <tr>\n",
       "      <th>...</th>\n",
       "      <td>...</td>\n",
       "      <td>...</td>\n",
       "      <td>...</td>\n",
       "    </tr>\n",
       "    <tr>\n",
       "      <th>50004995</th>\n",
       "      <td>Tênis Feminino Infantil Molekinha Tie Dye</td>\n",
       "      <td>Tênis Feminino Leve Barato Ganhe 1 Colchonete ...</td>\n",
       "      <td>0.041615</td>\n",
       "    </tr>\n",
       "    <tr>\n",
       "      <th>50004996</th>\n",
       "      <td>Tênis Feminino Infantil Molekinha Tie Dye</td>\n",
       "      <td>Tênis Polo Ralph Lauren Modelo Cantor Low Bran...</td>\n",
       "      <td>0.012183</td>\n",
       "    </tr>\n",
       "    <tr>\n",
       "      <th>50004997</th>\n",
       "      <td>Tênis Feminino Leve Barato Ganhe 1 Colchonete ...</td>\n",
       "      <td>Tênis Feminino Leve Barato Ganhe 1 Colchonete ...</td>\n",
       "      <td>1.000000</td>\n",
       "    </tr>\n",
       "    <tr>\n",
       "      <th>50004998</th>\n",
       "      <td>Tênis Feminino Leve Barato Ganhe 1 Colchonete ...</td>\n",
       "      <td>Tênis Polo Ralph Lauren Modelo Cantor Low Bran...</td>\n",
       "      <td>0.008301</td>\n",
       "    </tr>\n",
       "    <tr>\n",
       "      <th>50004999</th>\n",
       "      <td>Tênis Polo Ralph Lauren Modelo Cantor Low Bran...</td>\n",
       "      <td>Tênis Polo Ralph Lauren Modelo Cantor Low Bran...</td>\n",
       "      <td>1.000000</td>\n",
       "    </tr>\n",
       "  </tbody>\n",
       "</table>\n",
       "<p>50005000 rows × 3 columns</p>\n",
       "</div>"
      ],
      "text/plain": [
       "                                           ITE_ITEM_TITLE_1  \\\n",
       "0          Tênis Olympikus Esporte Valente - Masculino Kids   \n",
       "1          Tênis Olympikus Esporte Valente - Masculino Kids   \n",
       "2          Tênis Olympikus Esporte Valente - Masculino Kids   \n",
       "3          Tênis Olympikus Esporte Valente - Masculino Kids   \n",
       "4          Tênis Olympikus Esporte Valente - Masculino Kids   \n",
       "...                                                     ...   \n",
       "50004995          Tênis Feminino Infantil Molekinha Tie Dye   \n",
       "50004996          Tênis Feminino Infantil Molekinha Tie Dye   \n",
       "50004997  Tênis Feminino Leve Barato Ganhe 1 Colchonete ...   \n",
       "50004998  Tênis Feminino Leve Barato Ganhe 1 Colchonete ...   \n",
       "50004999  Tênis Polo Ralph Lauren Modelo Cantor Low Bran...   \n",
       "\n",
       "                                           ITE_ITEM_TITLE_2     SCORE  \n",
       "0          Tênis Olympikus Esporte Valente - Masculino Kids  1.000000  \n",
       "1         Bicicleta Barra Forte Samy C/ 6 Marchas Cubo C...  0.000000  \n",
       "2              Tênis Usthemp Slip-on Temático - Labrador 2  0.014983  \n",
       "3               Tênis Casual Feminino Moleca Tecido Tie Dye  0.014527  \n",
       "4               Tênis Star Baby Sapatinho Conforto + Brinde  0.016531  \n",
       "...                                                     ...       ...  \n",
       "50004995  Tênis Feminino Leve Barato Ganhe 1 Colchonete ...  0.041615  \n",
       "50004996  Tênis Polo Ralph Lauren Modelo Cantor Low Bran...  0.012183  \n",
       "50004997  Tênis Feminino Leve Barato Ganhe 1 Colchonete ...  1.000000  \n",
       "50004998  Tênis Polo Ralph Lauren Modelo Cantor Low Bran...  0.008301  \n",
       "50004999  Tênis Polo Ralph Lauren Modelo Cantor Low Bran...  1.000000  \n",
       "\n",
       "[50005000 rows x 3 columns]"
      ]
     },
     "execution_count": 74,
     "metadata": {},
     "output_type": "execute_result"
    }
   ],
   "source": [
    "import numpy as np\n",
    "from sklearn.feature_extraction.text import TfidfVectorizer\n",
    "from sklearn.metrics.pairwise import cosine_similarity\n",
    "\n",
    "titles_test_values = [\" \".join(text_to_stems(preprocess_title(title))) for title in titles_test[\"ITE_ITEM_TITLE\"].values]\n",
    "\n",
    "vectorizer = TfidfVectorizer()\n",
    "test_tfidf_matrix = vectorizer.fit_transform(titles_test_values)\n",
    "cosine_sim_test = cosine_similarity(test_tfidf_matrix, test_tfidf_matrix)\n",
    "\n",
    "mask = np.triu(np.ones(cosine_sim_test.shape, dtype=bool))\n",
    "cosine_sim_test[~mask] = np.nan\n",
    "\n",
    "res_2_test = pd.DataFrame(cosine_sim_test, index=titles_test[\"ITE_ITEM_TITLE\"].values, columns=titles_test[\"ITE_ITEM_TITLE\"].values)\n",
    "res_2_test = res_2_test.stack().dropna().reset_index().rename(columns={'level_0': 'ITE_ITEM_TITLE_1', 'level_1': 'ITE_ITEM_TITLE_2', 0: 'SCORE'})\n",
    "res_2_test.dropna(how=\"any\")"
   ]
  },
  {
   "cell_type": "code",
   "execution_count": 75,
   "metadata": {},
   "outputs": [],
   "source": [
    "res_2_test.to_csv(\"ejercicio_2_results.csv\", index=False)"
   ]
  },
  {
   "cell_type": "markdown",
   "metadata": {},
   "source": [
    "Os resultados para o dataset de teste foram calculados em um minuto e não foi possível calcular os resultados para o dataset completo por falta de espaço na memória. Entretanto, como esses resultados são calculados através de operação matricial, é possível utilizar arquitetura distribuída, portanto a solução é escalável."
   ]
  },
  {
   "cell_type": "markdown",
   "metadata": {},
   "source": [
    "## Referências"
   ]
  },
  {
   "cell_type": "markdown",
   "metadata": {},
   "source": [
    "[The Optimization of Fuzzy String Matching Using TF-IDF and Nearest Neighbors Algorithm (Medium)](https://audhiaprilliant.medium.com/fuzzy-string-matching-optimization-using-tf-idf-and-knn-b07fce69b58f#:~:text=The%20comparison%20to%20Levenshtein%20distance&text=Compared%20to%20the%20fuzzy%20string,with%20the%20number%20of%20data.)"
   ]
  }
 ],
 "metadata": {
  "kernelspec": {
   "display_name": "Python 3",
   "language": "python",
   "name": "python3"
  },
  "language_info": {
   "codemirror_mode": {
    "name": "ipython",
    "version": 3
   },
   "file_extension": ".py",
   "mimetype": "text/x-python",
   "name": "python",
   "nbconvert_exporter": "python",
   "pygments_lexer": "ipython3",
   "version": "3.11.4"
  },
  "orig_nbformat": 4
 },
 "nbformat": 4,
 "nbformat_minor": 2
}
