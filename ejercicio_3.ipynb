{
 "cells": [
  {
   "cell_type": "markdown",
   "metadata": {},
   "source": [
    "# Previsión de falla "
   ]
  },
  {
   "cell_type": "markdown",
   "metadata": {},
   "source": [
    "## Carregamento e pretratamento dos dados"
   ]
  },
  {
   "cell_type": "code",
   "execution_count": 50,
   "metadata": {},
   "outputs": [],
   "source": [
    "import pandas as pd\n",
    "\n",
    "data = pd.read_csv(\"full_devices.csv\", encoding=\"ISO-8859-1\", parse_dates=[\"date\"]).sort_values(by=[\"device\", \"date\"])"
   ]
  },
  {
   "cell_type": "markdown",
   "metadata": {},
   "source": [
    "É necessário fazer algumas operações sobre esses dados para obter as features de entrada e o target. Identificada a falta de dados para alguns dias, fazemos o resampling diário dos dados, e o shift da coluna target. Como existem dados faltantes, e eles não são dados com target=1 (falha no dia seguinte), eles foram desconsiderados."
   ]
  },
  {
   "cell_type": "code",
   "execution_count": 51,
   "metadata": {},
   "outputs": [
    {
     "name": "stderr",
     "output_type": "stream",
     "text": [
      "C:\\Users\\jeh_m\\AppData\\Local\\Temp\\ipykernel_39180\\3094842715.py:6: DeprecationWarning: DataFrameGroupBy.apply operated on the grouping columns. This behavior is deprecated, and in a future version of pandas the grouping columns will be excluded from the operation. Either pass `include_groups=False` to exclude the groupings or explicitly select the grouping columns after groupby to silence this warning.\n",
      "  resampled_group = data.groupby('device').apply(process_group).dropna(how=\"any\").reset_index(drop=True)\n"
     ]
    },
    {
     "data": {
      "text/html": [
       "<div>\n",
       "<style scoped>\n",
       "    .dataframe tbody tr th:only-of-type {\n",
       "        vertical-align: middle;\n",
       "    }\n",
       "\n",
       "    .dataframe tbody tr th {\n",
       "        vertical-align: top;\n",
       "    }\n",
       "\n",
       "    .dataframe thead th {\n",
       "        text-align: right;\n",
       "    }\n",
       "</style>\n",
       "<table border=\"1\" class=\"dataframe\">\n",
       "  <thead>\n",
       "    <tr style=\"text-align: right;\">\n",
       "      <th></th>\n",
       "      <th>device</th>\n",
       "      <th>failure</th>\n",
       "      <th>attribute1</th>\n",
       "      <th>attribute2</th>\n",
       "      <th>attribute3</th>\n",
       "      <th>attribute4</th>\n",
       "      <th>attribute5</th>\n",
       "      <th>attribute6</th>\n",
       "      <th>attribute7</th>\n",
       "      <th>attribute8</th>\n",
       "      <th>attribute9</th>\n",
       "      <th>target</th>\n",
       "    </tr>\n",
       "  </thead>\n",
       "  <tbody>\n",
       "    <tr>\n",
       "      <th>0</th>\n",
       "      <td>S1F01085</td>\n",
       "      <td>0.0</td>\n",
       "      <td>215630672.0</td>\n",
       "      <td>56.0</td>\n",
       "      <td>0.0</td>\n",
       "      <td>52.0</td>\n",
       "      <td>6.0</td>\n",
       "      <td>407438.0</td>\n",
       "      <td>0.0</td>\n",
       "      <td>0.0</td>\n",
       "      <td>7.0</td>\n",
       "      <td>0.0</td>\n",
       "    </tr>\n",
       "    <tr>\n",
       "      <th>1</th>\n",
       "      <td>S1F01085</td>\n",
       "      <td>0.0</td>\n",
       "      <td>1650864.0</td>\n",
       "      <td>56.0</td>\n",
       "      <td>0.0</td>\n",
       "      <td>52.0</td>\n",
       "      <td>6.0</td>\n",
       "      <td>407438.0</td>\n",
       "      <td>0.0</td>\n",
       "      <td>0.0</td>\n",
       "      <td>7.0</td>\n",
       "      <td>0.0</td>\n",
       "    </tr>\n",
       "    <tr>\n",
       "      <th>2</th>\n",
       "      <td>S1F01085</td>\n",
       "      <td>0.0</td>\n",
       "      <td>124017368.0</td>\n",
       "      <td>56.0</td>\n",
       "      <td>0.0</td>\n",
       "      <td>52.0</td>\n",
       "      <td>6.0</td>\n",
       "      <td>407438.0</td>\n",
       "      <td>0.0</td>\n",
       "      <td>0.0</td>\n",
       "      <td>7.0</td>\n",
       "      <td>0.0</td>\n",
       "    </tr>\n",
       "    <tr>\n",
       "      <th>3</th>\n",
       "      <td>S1F01085</td>\n",
       "      <td>0.0</td>\n",
       "      <td>128073224.0</td>\n",
       "      <td>56.0</td>\n",
       "      <td>0.0</td>\n",
       "      <td>52.0</td>\n",
       "      <td>6.0</td>\n",
       "      <td>407439.0</td>\n",
       "      <td>0.0</td>\n",
       "      <td>0.0</td>\n",
       "      <td>7.0</td>\n",
       "      <td>0.0</td>\n",
       "    </tr>\n",
       "    <tr>\n",
       "      <th>4</th>\n",
       "      <td>S1F01085</td>\n",
       "      <td>0.0</td>\n",
       "      <td>97393448.0</td>\n",
       "      <td>56.0</td>\n",
       "      <td>0.0</td>\n",
       "      <td>52.0</td>\n",
       "      <td>6.0</td>\n",
       "      <td>408114.0</td>\n",
       "      <td>0.0</td>\n",
       "      <td>0.0</td>\n",
       "      <td>7.0</td>\n",
       "      <td>0.0</td>\n",
       "    </tr>\n",
       "    <tr>\n",
       "      <th>...</th>\n",
       "      <td>...</td>\n",
       "      <td>...</td>\n",
       "      <td>...</td>\n",
       "      <td>...</td>\n",
       "      <td>...</td>\n",
       "      <td>...</td>\n",
       "      <td>...</td>\n",
       "      <td>...</td>\n",
       "      <td>...</td>\n",
       "      <td>...</td>\n",
       "      <td>...</td>\n",
       "      <td>...</td>\n",
       "    </tr>\n",
       "    <tr>\n",
       "      <th>123099</th>\n",
       "      <td>Z1F2PBHX</td>\n",
       "      <td>0.0</td>\n",
       "      <td>232559640.0</td>\n",
       "      <td>0.0</td>\n",
       "      <td>0.0</td>\n",
       "      <td>0.0</td>\n",
       "      <td>5.0</td>\n",
       "      <td>162645.0</td>\n",
       "      <td>0.0</td>\n",
       "      <td>0.0</td>\n",
       "      <td>0.0</td>\n",
       "      <td>0.0</td>\n",
       "    </tr>\n",
       "    <tr>\n",
       "      <th>123100</th>\n",
       "      <td>Z1F2PBHX</td>\n",
       "      <td>0.0</td>\n",
       "      <td>180917784.0</td>\n",
       "      <td>0.0</td>\n",
       "      <td>0.0</td>\n",
       "      <td>0.0</td>\n",
       "      <td>5.0</td>\n",
       "      <td>162645.0</td>\n",
       "      <td>0.0</td>\n",
       "      <td>0.0</td>\n",
       "      <td>0.0</td>\n",
       "      <td>0.0</td>\n",
       "    </tr>\n",
       "    <tr>\n",
       "      <th>123101</th>\n",
       "      <td>Z1F2PBHX</td>\n",
       "      <td>0.0</td>\n",
       "      <td>33952520.0</td>\n",
       "      <td>0.0</td>\n",
       "      <td>0.0</td>\n",
       "      <td>0.0</td>\n",
       "      <td>5.0</td>\n",
       "      <td>162645.0</td>\n",
       "      <td>0.0</td>\n",
       "      <td>0.0</td>\n",
       "      <td>0.0</td>\n",
       "      <td>0.0</td>\n",
       "    </tr>\n",
       "    <tr>\n",
       "      <th>123102</th>\n",
       "      <td>Z1F2PBHX</td>\n",
       "      <td>0.0</td>\n",
       "      <td>59053184.0</td>\n",
       "      <td>0.0</td>\n",
       "      <td>0.0</td>\n",
       "      <td>0.0</td>\n",
       "      <td>5.0</td>\n",
       "      <td>162645.0</td>\n",
       "      <td>0.0</td>\n",
       "      <td>0.0</td>\n",
       "      <td>0.0</td>\n",
       "      <td>0.0</td>\n",
       "    </tr>\n",
       "    <tr>\n",
       "      <th>123103</th>\n",
       "      <td>Z1F2PBHX</td>\n",
       "      <td>0.0</td>\n",
       "      <td>110545440.0</td>\n",
       "      <td>0.0</td>\n",
       "      <td>0.0</td>\n",
       "      <td>0.0</td>\n",
       "      <td>5.0</td>\n",
       "      <td>163047.0</td>\n",
       "      <td>0.0</td>\n",
       "      <td>0.0</td>\n",
       "      <td>0.0</td>\n",
       "      <td>0.0</td>\n",
       "    </tr>\n",
       "  </tbody>\n",
       "</table>\n",
       "<p>123104 rows × 12 columns</p>\n",
       "</div>"
      ],
      "text/plain": [
       "          device  failure   attribute1  attribute2  attribute3  attribute4  \\\n",
       "0       S1F01085      0.0  215630672.0        56.0         0.0        52.0   \n",
       "1       S1F01085      0.0    1650864.0        56.0         0.0        52.0   \n",
       "2       S1F01085      0.0  124017368.0        56.0         0.0        52.0   \n",
       "3       S1F01085      0.0  128073224.0        56.0         0.0        52.0   \n",
       "4       S1F01085      0.0   97393448.0        56.0         0.0        52.0   \n",
       "...          ...      ...          ...         ...         ...         ...   \n",
       "123099  Z1F2PBHX      0.0  232559640.0         0.0         0.0         0.0   \n",
       "123100  Z1F2PBHX      0.0  180917784.0         0.0         0.0         0.0   \n",
       "123101  Z1F2PBHX      0.0   33952520.0         0.0         0.0         0.0   \n",
       "123102  Z1F2PBHX      0.0   59053184.0         0.0         0.0         0.0   \n",
       "123103  Z1F2PBHX      0.0  110545440.0         0.0         0.0         0.0   \n",
       "\n",
       "        attribute5  attribute6  attribute7  attribute8  attribute9  target  \n",
       "0              6.0    407438.0         0.0         0.0         7.0     0.0  \n",
       "1              6.0    407438.0         0.0         0.0         7.0     0.0  \n",
       "2              6.0    407438.0         0.0         0.0         7.0     0.0  \n",
       "3              6.0    407439.0         0.0         0.0         7.0     0.0  \n",
       "4              6.0    408114.0         0.0         0.0         7.0     0.0  \n",
       "...            ...         ...         ...         ...         ...     ...  \n",
       "123099         5.0    162645.0         0.0         0.0         0.0     0.0  \n",
       "123100         5.0    162645.0         0.0         0.0         0.0     0.0  \n",
       "123101         5.0    162645.0         0.0         0.0         0.0     0.0  \n",
       "123102         5.0    162645.0         0.0         0.0         0.0     0.0  \n",
       "123103         5.0    163047.0         0.0         0.0         0.0     0.0  \n",
       "\n",
       "[123104 rows x 12 columns]"
      ]
     },
     "execution_count": 51,
     "metadata": {},
     "output_type": "execute_result"
    }
   ],
   "source": [
    "def process_group(group: pd.DataFrame) -> pd.DataFrame:\n",
    "    group = group.set_index(\"date\").resample(\"D\").max()\n",
    "    group.loc[:, \"target\"] = group[\"failure\"].shift(-1)\n",
    "    return group\n",
    "\n",
    "resampled_group = data.groupby('device').apply(process_group).dropna(how=\"any\").reset_index(drop=True)\n",
    "resampled_group "
   ]
  },
  {
   "cell_type": "markdown",
   "metadata": {},
   "source": [
    "Selecionando os dados de entrata e particionando-os em conjunto de treino e test:"
   ]
  },
  {
   "cell_type": "code",
   "execution_count": 52,
   "metadata": {},
   "outputs": [],
   "source": [
    "from sklearn import model_selection\n",
    "\n",
    "train_cols = [\n",
    "    \"failure\",\n",
    "    \"attribute1\",\n",
    "    \"attribute2\",\n",
    "    \"attribute3\",\n",
    "    \"attribute4\",\n",
    "    \"attribute5\",\n",
    "    \"attribute6\",\n",
    "    \"attribute7\",\n",
    "    \"attribute8\",\n",
    "    \"attribute9\",\n",
    "]\n",
    "\n",
    "x, y = resampled_group[train_cols], resampled_group[\"target\"]\n",
    "x_train, x_test, y_train, y_test = model_selection.train_test_split(\n",
    "    x, y, test_size=0.3, random_state=42\n",
    ")"
   ]
  },
  {
   "cell_type": "markdown",
   "metadata": {},
   "source": [
    "Normalizando as features de entrada, já que possuem distribuições significativamente diferentes:"
   ]
  },
  {
   "cell_type": "code",
   "execution_count": 53,
   "metadata": {},
   "outputs": [
    {
     "data": {
      "image/png": "[encoded data removed]",
      "text/plain": [
       "<Figure size 1100x600 with 1 Axes>"
      ]
     },
     "metadata": {},
     "output_type": "display_data"
    }
   ],
   "source": [
    "import matplotlib.pyplot as plt\n",
    "import seaborn as sns\n",
    "\n",
    "f, ax = plt.subplots(figsize=(11, 6))\n",
    "sns.violinplot(data=x_train, palette=\"Set3\")\n",
    "plt.show()"
   ]
  },
  {
   "cell_type": "code",
   "execution_count": 54,
   "metadata": {},
   "outputs": [],
   "source": [
    "from sklearn import preprocessing\n",
    "\n",
    "scaler = preprocessing.StandardScaler()\n",
    "x_train = scaler.fit_transform(x_train)\n",
    "x_test = scaler.transform(x_test)"
   ]
  },
  {
   "cell_type": "code",
   "execution_count": 55,
   "metadata": {},
   "outputs": [
    {
     "data": {
      "image/png": "[encoded data removed]",
      "text/plain": [
       "<Figure size 640x480 with 1 Axes>"
      ]
     },
     "metadata": {},
     "output_type": "display_data"
    }
   ],
   "source": [
    "fig, ax = plt.subplots(1,1)\n",
    "sns.violinplot(data=x_train, palette=\"Set3\")\n",
    "ax.set_ylim(bottom=-5, top=5)\n",
    "plt.show()"
   ]
  },
  {
   "cell_type": "markdown",
   "metadata": {},
   "source": [
    "Analisando a distribuição de dados de falha e não falha para os dois datasets, percebemos que se trata de um problema fortemente desbalanceado:"
   ]
  },
  {
   "cell_type": "code",
   "execution_count": 56,
   "metadata": {},
   "outputs": [
    {
     "name": "stdout",
     "output_type": "stream",
     "text": [
      "Dados de falha no dataset de treino: 68/86172\n",
      "Dados de falha no dataset de teste: 36/36932\n"
     ]
    }
   ],
   "source": [
    "import numpy as np\n",
    "print(f\"Dados de falha no dataset de treino: {np.count_nonzero(y_train)}/{len(y_train)}\")\n",
    "print(f\"Dados de falha no dataset de teste: {np.count_nonzero(y_test)}/{len(y_test)}\")"
   ]
  },
  {
   "cell_type": "markdown",
   "metadata": {},
   "source": [
    "Usando a técnica de oversampling para balancear as classes no conjunto de treinamento temos:"
   ]
  },
  {
   "cell_type": "code",
   "execution_count": 57,
   "metadata": {},
   "outputs": [
    {
     "name": "stdout",
     "output_type": "stream",
     "text": [
      "Distribuição do dataset rebalanceado: Counter({0.0: 86104, 1.0: 86104})\n"
     ]
    }
   ],
   "source": [
    "from collections import Counter\n",
    "from imblearn import over_sampling\n",
    "\n",
    "sm = over_sampling.SMOTE(random_state=42)\n",
    "x_res, y_res = sm.fit_resample(x_train, y_train)\n",
    "print('Distribuição do dataset rebalanceado: %s' % Counter(y_res))"
   ]
  },
  {
   "cell_type": "markdown",
   "metadata": {},
   "source": [
    "## Treino e avaliação do modelo"
   ]
  },
  {
   "cell_type": "markdown",
   "metadata": {},
   "source": [
    "O modelo escolhido é um classificador Random Forest com 100 estimadores."
   ]
  },
  {
   "cell_type": "code",
   "execution_count": 58,
   "metadata": {},
   "outputs": [
    {
     "name": "stdout",
     "output_type": "stream",
     "text": [
      "              precision    recall  f1-score   support\n",
      "\n",
      "         0.0       1.00      1.00      1.00     36896\n",
      "         1.0       0.04      0.06      0.05        36\n",
      "\n",
      "    accuracy                           1.00     36932\n",
      "   macro avg       0.52      0.53      0.52     36932\n",
      "weighted avg       1.00      1.00      1.00     36932\n",
      "\n"
     ]
    }
   ],
   "source": [
    "from sklearn import ensemble\n",
    "from sklearn import metrics\n",
    "\n",
    "rf_classifier = ensemble.RandomForestClassifier(n_estimators=100, random_state=42)\n",
    "rf_classifier.fit(x_res, y_res)\n",
    "\n",
    "y_pred = rf_classifier.predict(x_test)\n",
    "print(metrics.classification_report(y_test, y_pred))"
   ]
  },
  {
   "cell_type": "code",
   "execution_count": 59,
   "metadata": {},
   "outputs": [
    {
     "data": {
      "text/plain": [
       "<sklearn.metrics._plot.confusion_matrix.ConfusionMatrixDisplay at 0x1ded68db750>"
      ]
     },
     "execution_count": 59,
     "metadata": {},
     "output_type": "execute_result"
    },
    {
     "data": {
      "image/png": "[encoded data removed]",
      "text/plain": [
       "<Figure size 640x480 with 2 Axes>"
      ]
     },
     "metadata": {},
     "output_type": "display_data"
    }
   ],
   "source": [
    "disp = metrics.ConfusionMatrixDisplay(\n",
    "    confusion_matrix=metrics.confusion_matrix(y_test, y_pred),\n",
    "    display_labels=rf_classifier.classes_,\n",
    ")\n",
    "disp.plot()"
   ]
  },
  {
   "cell_type": "markdown",
   "metadata": {},
   "source": [
    "Os resultados mostram que apesar da aplicação da técnica de oversampling, o modelo tem dificuldade para identificar falhas no dataset de teste, provavelmente devido a pouca representatividade dos dados de falha no dataset de treino. Testes com modelos como XGBoost e SVM tiveram resultados semelhantes, indicando pouca eficácia em aumentar complexidade do modelo. Para melhorar esses resultados, minha sugestão seria aprofundar a análise das variáveis de entrada, ou seja, realizando feature engineering. Os resultados de probabilidade de falha para esse modelo são obtidos através do código a seguir:"
   ]
  },
  {
   "cell_type": "code",
   "execution_count": 60,
   "metadata": {},
   "outputs": [],
   "source": [
    "x_prob = rf_classifier.predict_proba(x_test)[:,1]"
   ]
  }
 ],
 "metadata": {
  "kernelspec": {
   "display_name": "env",
   "language": "python",
   "name": "python3"
  },
  "language_info": {
   "codemirror_mode": {
    "name": "ipython",
    "version": 3
   },
   "file_extension": ".py",
   "mimetype": "text/x-python",
   "name": "python",
   "nbconvert_exporter": "python",
   "pygments_lexer": "ipython3",
   "version": "3.11.4"
  },
  "orig_nbformat": 4
 },
 "nbformat": 4,
 "nbformat_minor": 2
}
